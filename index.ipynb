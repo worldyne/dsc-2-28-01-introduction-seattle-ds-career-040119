{
 "cells": [
  {
   "cell_type": "markdown",
   "metadata": {},
   "source": [
    "# Networks - Introduction\n",
    "\n",
    "## Introduction\n",
    "\n",
    "In this section, you'll investigate a new data structure: networks! Networks are a useful data structure to map a range of applications from driving directions to social networks.\n",
    "\n",
    "## Objectives\n",
    "\n",
    "You will be able to:\n",
    "    \n",
    "* Talk about networks \n",
    "* Outline key concepts to be covered in the section\n",
    "\n",
    "## Network Graphs\n",
    "\n",
    "Networks are another way of representing data that you have yet to fully investigate. In their most simple case, a network contains **nodes** connected by **edges** like this:\n",
    "<img src=\"images/graph.png\">\n",
    "\n",
    "Nodes represent some object such as people, languages, countries, or tags, to name a few. The relationships between these objects are the edges between them. For example, later in this section you'll investigate the relationship of various technology tags on the popular website stackoverflow.com. One potential network visualization of this data looks like this:\n",
    "<img src=\"images/stackoverflow_clusters.png\">\n",
    "\n",
    "\n",
    "## Path Searching\n",
    "\n",
    "One important idea in network analysis are path searching algorithms. Finding the shortest path between two nodes is a foundational concept for creating a distance metric which can then be used to conduct more advanced analyses. Mapping applications such as Google Maps, Apple Maps, Waze or Uber are also natural applications for path searching algorithms. In this section, you'll investigate Dijkstra's algorithm for finding the shortest path between two points, coding it from scratch using python yourself.\n",
    "\n",
    "## Centrality\n",
    "\n",
    "Once you've corralled the concept of path searching, you'll then go on to investigate properties of nodes and edges. Centrality is a key concept in this, helping to determine which nodes are most influential to a network, or hold pivotal positions in connecting the network.\n",
    "\n",
    "## Cliques and Clustering\n",
    "\n",
    "Moving from the study of single objects nodes and edges within the network, you'll then start to investigate larger structures. With this, you'll investigate the concept of cliques and clusters in order to subdivide a network into smaller groups. Natural applications of this including sub-setting social networks into groups or categorizing items such as books or languages.\n",
    "\n",
    "## Recommendation Systems\n",
    "\n",
    "To round out this section, you'll investigate how networks can be used to fuel recommendation systems, a popular and exciting topic. With this, you'll work on recommending amazon products to customers.\n",
    "\n",
    "## Summary\n",
    "\n",
    "Get ready to dive into the exciting realm of networks! In this section, you'll get to play around with a range of datasets from twitter, Game of Thrones and the Amazon Marketplace!"
   ]
  }
 ],
 "metadata": {
  "kernelspec": {
   "display_name": "Python 3",
   "language": "python",
   "name": "python3"
  },
  "language_info": {
   "codemirror_mode": {
    "name": "ipython",
    "version": 3
   },
   "file_extension": ".py",
   "mimetype": "text/x-python",
   "name": "python",
   "nbconvert_exporter": "python",
   "pygments_lexer": "ipython3",
   "version": "3.6.6"
  }
 },
 "nbformat": 4,
 "nbformat_minor": 2
}
